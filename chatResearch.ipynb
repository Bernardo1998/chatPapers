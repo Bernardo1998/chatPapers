{
  "nbformat": 4,
  "nbformat_minor": 0,
  "metadata": {
    "colab": {
      "provenance": []
    },
    "kernelspec": {
      "name": "python3",
      "display_name": "Python 3"
    },
    "language_info": {
      "name": "python"
    }
  },
  "cells": [
    {
      "cell_type": "code",
      "source": [
        "# This notebook is designed for Google colab.\n",
        "# Modify the path for your local environments.\n",
        "from google.colab import drive\n",
        "drive.mount('/content/drive/', force_remount=True)\n",
        "\n",
        "import os\n",
        "\n",
        "# Change to your working dir\n",
        "os.chdir(\"/content/drive/MyDrive/chatResearch\")"
      ],
      "metadata": {
        "colab": {
          "base_uri": "https://localhost:8080/"
        },
        "id": "tM9aji3ogv8b",
        "outputId": "4e243612-c8da-4e12-f397-17c52f9d47fd"
      },
      "execution_count": 1,
      "outputs": [
        {
          "output_type": "stream",
          "name": "stdout",
          "text": [
            "Mounted at /content/drive/\n"
          ]
        }
      ]
    },
    {
      "cell_type": "code",
      "source": [
        "!pip install -r requirements.txt"
      ],
      "metadata": {
        "id": "OWA5nDrzkwbc"
      },
      "execution_count": null,
      "outputs": []
    },
    {
      "cell_type": "code",
      "source": [
        "!python chatResearch.py --file='paper_lists/paper_list.csv' --search_keywords=\"modeling time series with transformer\""
      ],
      "metadata": {
        "id": "mqsnny7phFdu"
      },
      "execution_count": null,
      "outputs": []
    },
    {
      "cell_type": "code",
      "source": [
        "!python chatResearch.py --action=\"interactive\""
      ],
      "metadata": {
        "id": "L3n5PEjYwiMW"
      },
      "execution_count": 4,
      "outputs": []
    }
  ]
}